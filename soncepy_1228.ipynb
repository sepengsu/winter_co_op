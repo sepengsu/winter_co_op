{
 "cells": [
  {
   "cell_type": "code",
   "execution_count": 2,
   "metadata": {},
   "outputs": [],
   "source": [
    "import gym\n",
    "import sconegym\n",
    "import sys\n",
    "sys.path.append(\"C:/Program Files/SCONE/bin\")\n",
    "import sconepy\n",
    "import deprl\n",
    "import yaml\n"
   ]
  },
  {
   "cell_type": "code",
   "execution_count": 3,
   "metadata": {},
   "outputs": [
    {
     "data": {
      "text/plain": [
       "sys.version_info(major=3, minor=9, micro=13, releaselevel='final', serial=0)"
      ]
     },
     "execution_count": 3,
     "metadata": {},
     "output_type": "execute_result"
    }
   ],
   "source": [
    "import sys\n",
    "sys.version_info"
   ]
  },
  {
   "cell_type": "code",
   "execution_count": 4,
   "metadata": {},
   "outputs": [],
   "source": [
    "with open(r'config\\\\scone_walk_h1622.yaml','r') as y:\n",
    "    config = yaml.safe_load(y)\n",
    "#config['tonic']['name'] = 'sconewalk_h1622_v1'\n",
    "#config['tonic']['name'] = 'h1622_v1_lua_50_bal'\n",
    "config['tonic']['name'] = \"temp\"\n",
    "config['tonic']['environment'] = \"deprl.environments.Gym('sconewalk_h1622-v1')\"\n",
    "import os\n",
    "dir_path  = []\n",
    "dir_path.append(r\"C:\\Users\\PC\\Documents\\SCONE\\results\")\n",
    "dir_path.append(r\"C:\\Users\\na062\\Documents\\SCONE\\results\")\n",
    "if os.path.exists(dir_path[0]) or os.path.isdir(dir_path[0]):\n",
    "    dir_path = dir_path[0]\n",
    "elif os.path.exists(dir_path[1]) or os.path.isdir(dir_path[1]):\n",
    "    dir_path = dir_path[1]\n",
    "\n",
    "else:\n",
    "    dir_path = input(\"경로 입력\")\n",
    "\n",
    "path = os.path.join(dir_path,config['tonic']['name'])\n",
    "names = os.listdir(path)[0]\n",
    "path = os.path.join(path,names)"
   ]
  },
  {
   "cell_type": "markdown",
   "metadata": {},
   "source": [
    "### inference"
   ]
  },
  {
   "cell_type": "code",
   "execution_count": 15,
   "metadata": {},
   "outputs": [
    {
     "name": "stdout",
     "output_type": "stream",
     "text": [
      "\u001b[1m\u001b[32mStochastic Switch-DEP. Paper version.\u001b[0m\n",
      "\u001b[1m\u001b[32mLoading\u001b[0m\n",
      "Episode 0 ending; steps=352; reward=47799.584;                 com=[ 4.814864 0.714345 -0.071051 ]\n"
     ]
    },
    {
     "data": {
      "text/plain": [
       "'Epis: 1,Max_Re:47799.58355601829'"
      ]
     },
     "execution_count": 15,
     "metadata": {},
     "output_type": "execute_result"
    }
   ],
   "source": [
    "env = eval(config['tonic']['environment'])\n",
    "policy = deprl.utils.load(os.path.join(path,'checkpoints'),env,checkpoint=\"last\")\n",
    "env.seed(0)\n",
    "re_list = []\n",
    "for ep in range(1):\n",
    "    ep_steps = 0\n",
    "    ep_tot_reward = 0\n",
    "    state = env.reset()\n",
    "    env.store_next_episode()\n",
    "    while True:\n",
    "        # samples random action\n",
    "        action = policy(state)\n",
    "        # applies action and advances environment by one step\n",
    "        state, reward, done, info = env.step(action)\n",
    "        ep_steps += 1\n",
    "        ep_tot_reward += reward\n",
    "\n",
    "\n",
    "        # check if done\n",
    "        if done or (ep_steps >= 1000):\n",
    "            print(\n",
    "                f\"Episode {ep} ending; steps={ep_steps}; reward={ep_tot_reward:0.3f}; \\\n",
    "                com={env.model.com_pos()}\"\n",
    "            )\n",
    "            env.write_now()\n",
    "            #env.reset()\n",
    "            re_list.append(ep_tot_reward)\n",
    "            break\n",
    "\n",
    "import numpy as np\n",
    "maxs = np.where(re_list==max(re_list))[0][0]\n",
    "f'Epis: {maxs+1},Max_Re:{re_list[maxs]}'\n",
    "    "
   ]
  },
  {
   "cell_type": "markdown",
   "metadata": {},
   "source": [
    "### 모델 분석"
   ]
  },
  {
   "cell_type": "markdown",
   "metadata": {},
   "source": [
    "#### 함수 만들기"
   ]
  },
  {
   "cell_type": "code",
   "execution_count": 16,
   "metadata": {},
   "outputs": [],
   "source": [
    "def printing_var(obj):\n",
    "    var = dict()\n",
    "    for attr in dir(obj):\n",
    "        if not attr.startswith(\"__\"):\n",
    "            try: \n",
    "                getattr(obj, attr)()\n",
    "            except:\n",
    "                print(f\"{obj} = {getattr(obj, attr)}\")\n",
    "                var[obj] = getattr(obj,attr)\n",
    "            else:\n",
    "                print(f\"{attr} = {getattr(obj, attr)()}\")\n",
    "                var[obj] = getattr(obj,attr)()\n",
    "    \n",
    "def direxcept(obj):\n",
    "    oblist = dir(obj)\n",
    "    return [attr for attr in oblist if not attr.startswith('_')]\n",
    "\n",
    "def namedict(obj):\n",
    "    return {item.name():item for item in obj}"
   ]
  },
  {
   "cell_type": "markdown",
   "metadata": {},
   "source": [
    "#### 모델 분석 시작"
   ]
  },
  {
   "cell_type": "code",
   "execution_count": 17,
   "metadata": {},
   "outputs": [],
   "source": [
    "env = eval(config['tonic']['environment'])\n",
    "model = env.model\n",
    "head_body = env.head_body"
   ]
  },
  {
   "cell_type": "code",
   "execution_count": 26,
   "metadata": {},
   "outputs": [
    {
     "data": {
      "text/plain": [
       "[array([0., 0., 0.], dtype=float32),\n",
       " array([0., 0., 0.], dtype=float32),\n",
       " array([0., 0., 0.], dtype=float32),\n",
       " array([0., 0., 0.], dtype=float32),\n",
       " array([0., 0., 0.], dtype=float32),\n",
       " array([0., 0., 0.], dtype=float32),\n",
       " array([0., 0., 0.], dtype=float32)]"
      ]
     },
     "execution_count": 26,
     "metadata": {},
     "output_type": "execute_result"
    }
   ],
   "source": [
    "joints = model.joints()\n",
    "[item.limit_torque().array() for item in joints]"
   ]
  },
  {
   "cell_type": "code",
   "execution_count": 32,
   "metadata": {},
   "outputs": [
    {
     "data": {
      "text/plain": [
       "['actuator_input_array',\n",
       " 'actuators',\n",
       " 'adjust_state_for_load',\n",
       " 'advance_simulation_to',\n",
       " 'bodies',\n",
       " 'com_pos',\n",
       " 'com_vel',\n",
       " 'contact_force',\n",
       " 'contact_load',\n",
       " 'contact_power',\n",
       " 'control_step_size',\n",
       " 'current_measure',\n",
       " 'delayed_dof_position_array',\n",
       " 'delayed_dof_velocity_array',\n",
       " 'delayed_muscle_fiber_length_array',\n",
       " 'delayed_muscle_fiber_velocity_array',\n",
       " 'delayed_muscle_force_array',\n",
       " 'delayed_vestibular_array',\n",
       " 'dof_position_array',\n",
       " 'dof_velocity_array',\n",
       " 'dofs',\n",
       " 'final_measure',\n",
       " 'gravity',\n",
       " 'has_simulation_ended',\n",
       " 'init_muscle_activations',\n",
       " 'init_state_from_dofs',\n",
       " 'integration_step',\n",
       " 'joints',\n",
       " 'legs',\n",
       " 'log_measure_report',\n",
       " 'mass',\n",
       " 'measure',\n",
       " 'muscle_activation_array',\n",
       " 'muscle_excitation_array',\n",
       " 'muscle_fiber_length_array',\n",
       " 'muscle_fiber_velocity_array',\n",
       " 'muscle_force_array',\n",
       " 'muscles',\n",
       " 'name',\n",
       " 'reset',\n",
       " 'set_actuator_inputs',\n",
       " 'set_delayed_actuator_inputs',\n",
       " 'set_dof_positions',\n",
       " 'set_dof_velocities',\n",
       " 'set_simulation_end_time',\n",
       " 'set_state',\n",
       " 'set_store_data',\n",
       " 'state',\n",
       " 'time',\n",
       " 'write_results']"
      ]
     },
     "execution_count": 32,
     "metadata": {},
     "output_type": "execute_result"
    }
   ],
   "source": [
    "direxcept(model)"
   ]
  },
  {
   "cell_type": "code",
   "execution_count": 31,
   "metadata": {},
   "outputs": [
    {
     "ename": "AttributeError",
     "evalue": "'sconepy.Model' object has no attribute 'grfs'",
     "output_type": "error",
     "traceback": [
      "\u001b[1;31m---------------------------------------------------------------------------\u001b[0m",
      "\u001b[1;31mAttributeError\u001b[0m                            Traceback (most recent call last)",
      "Cell \u001b[1;32mIn[31], line 1\u001b[0m\n\u001b[1;32m----> 1\u001b[0m \u001b[43mmodel\u001b[49m\u001b[38;5;241;43m.\u001b[39;49m\u001b[43mgrfs\u001b[49m\n",
      "\u001b[1;31mAttributeError\u001b[0m: 'sconepy.Model' object has no attribute 'grfs'"
     ]
    }
   ],
   "source": [
    "model.grfs"
   ]
  },
  {
   "cell_type": "code",
   "execution_count": 1,
   "metadata": {},
   "outputs": [
    {
     "ename": "NameError",
     "evalue": "name 'direxcept' is not defined",
     "output_type": "error",
     "traceback": [
      "\u001b[1;31m---------------------------------------------------------------------------\u001b[0m",
      "\u001b[1;31mNameError\u001b[0m                                 Traceback (most recent call last)",
      "Cell \u001b[1;32mIn[1], line 1\u001b[0m\n\u001b[1;32m----> 1\u001b[0m \u001b[43mdirexcept\u001b[49m(model\u001b[38;5;241m.\u001b[39mdofs()[\u001b[38;5;241m0\u001b[39m])\n",
      "\u001b[1;31mNameError\u001b[0m: name 'direxcept' is not defined"
     ]
    }
   ],
   "source": [
    "direxcept(model.dofs()[0])"
   ]
  },
  {
   "cell_type": "code",
   "execution_count": 36,
   "metadata": {},
   "outputs": [
    {
     "data": {
      "text/plain": [
       "{'ground': <sconepy.Body at 0x26c46347430>,\n",
       " 'pelvis': <sconepy.Body at 0x26c46347ef0>,\n",
       " 'femur_r': <sconepy.Body at 0x26c45ce6430>,\n",
       " 'tibia_r': <sconepy.Body at 0x26c462fb570>,\n",
       " 'calcn_r': <sconepy.Body at 0x26c4633ae30>,\n",
       " 'femur_l': <sconepy.Body at 0x26c4633a1f0>,\n",
       " 'tibia_l': <sconepy.Body at 0x26c4633af30>,\n",
       " 'calcn_l': <sconepy.Body at 0x26c4633abf0>,\n",
       " 'torso': <sconepy.Body at 0x26c45c86f30>}"
      ]
     },
     "execution_count": 36,
     "metadata": {},
     "output_type": "execute_result"
    }
   ],
   "source": [
    "namedict(model.bodies())"
   ]
  },
  {
   "cell_type": "markdown",
   "metadata": {},
   "source": [
    "### Measure\n"
   ]
  },
  {
   "cell_type": "code",
   "execution_count": 170,
   "metadata": {},
   "outputs": [],
   "source": [
    "weights={item['name']:item['weight'] for item in measurement['Measures'][:-1]}"
   ]
  },
  {
   "cell_type": "code",
   "execution_count": 173,
   "metadata": {},
   "outputs": [],
   "source": [
    "weights['DoLimits'] = measurement['Measures'][-1]['DofMeasure']['weight']"
   ]
  },
  {
   "cell_type": "code",
   "execution_count": 1,
   "metadata": {},
   "outputs": [],
   "source": [
    "DEFAULT_WEIGHTS = {'Gait': 10000,\n",
    " 'Effort': 1.3079,\n",
    " 'ActivationSquared': 0.0009657,\n",
    " 'HeadAcceleration': 1.1628,\n",
    " 'GRFJerk': 0.2494,\n",
    " 'KneeLimitForce': 0.25,\n",
    " 'DoLimits': 0.1}"
   ]
  },
  {
   "cell_type": "code",
   "execution_count": 7,
   "metadata": {},
   "outputs": [
    {
     "data": {
      "text/plain": [
       "['Gait',\n",
       " 'Effort',\n",
       " 'ActivationSquared',\n",
       " 'HeadAcceleration',\n",
       " 'GRFJerk',\n",
       " 'KneeLimitForce',\n",
       " 'DoLimits']"
      ]
     },
     "execution_count": 7,
     "metadata": {},
     "output_type": "execute_result"
    }
   ],
   "source": [
    "list(DEFAULT_WEIGHTS.keys())"
   ]
  }
 ],
 "metadata": {
  "kernelspec": {
   "display_name": "python_scone",
   "language": "python",
   "name": "python3"
  },
  "language_info": {
   "codemirror_mode": {
    "name": "ipython",
    "version": 3
   },
   "file_extension": ".py",
   "mimetype": "text/x-python",
   "name": "python",
   "nbconvert_exporter": "python",
   "pygments_lexer": "ipython3",
   "version": "3.9.13"
  }
 },
 "nbformat": 4,
 "nbformat_minor": 2
}
