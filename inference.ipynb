{
 "cells": [
  {
   "cell_type": "code",
   "execution_count": 76,
   "metadata": {},
   "outputs": [],
   "source": [
    "import gym\n",
    "import sconegym\n",
    "import sys\n",
    "sys.path.append(\"C:/Program Files/SCONE/bin\")\n",
    "import yaml\n",
    "import deprl\n",
    "import myutils\n",
    "from myutils.load_utils import load\n",
    "from myutils import get_directory_path, inference,make6\n",
    "import os\n",
    "import datetime\n",
    "import numpy as np"
   ]
  },
  {
   "cell_type": "code",
   "execution_count": 77,
   "metadata": {},
   "outputs": [],
   "source": [
    "name = \"fix_stiffness_new_\"\n",
    "name = \"fix_stiffness_new_composite_\"\n",
    "name = \"fix_stiffness_new_composite_ori_\"\n",
    "# name = \"fix_stif_10_\"\n",
    "name = \"fix_reward\" \n",
    "name = \"fix_10_default\""
   ]
  },
  {
   "cell_type": "code",
   "execution_count": 78,
   "metadata": {},
   "outputs": [],
   "source": [
    "dir_path  = get_directory_path() # result directory\n",
    "with open(f'trainconfig/{name}.yaml','r') as f:\n",
    "    config = yaml.safe_load(f)\n",
    "path = os.path.join(dir_path,name)\n",
    "names = os.listdir(path)[0]\n",
    "path = os.path.join(path,names)"
   ]
  },
  {
   "cell_type": "markdown",
   "metadata": {},
   "source": [
    "### best case"
   ]
  },
  {
   "cell_type": "code",
   "execution_count": 79,
   "metadata": {},
   "outputs": [],
   "source": [
    "import pandas as pd\n",
    "log = pd.read_csv(os.path.join(path,'log.csv'))"
   ]
  },
  {
   "cell_type": "code",
   "execution_count": 80,
   "metadata": {},
   "outputs": [],
   "source": [
    "def per_5(df):\n",
    "    result = pd.DataFrame()\n",
    "    for i in range(len(df)//5):\n",
    "        temp = df[i*5:(i+1)*5].mean()\n",
    "        result = pd.concat([result,pd.DataFrame([temp])])\n",
    "    return result"
   ]
  },
  {
   "cell_type": "code",
   "execution_count": 85,
   "metadata": {},
   "outputs": [
    {
     "name": "stdout",
     "output_type": "stream",
     "text": [
      "The maximum mean value of the test episodes is 2788.95 at index 155.\n"
     ]
    }
   ],
   "source": [
    "def find_max_mean(df):\n",
    "    df = per_5(df)\n",
    "    df = df.reset_index()\n",
    "    # column = 'train/episode_score/mean'\n",
    "    column = 'train/episode_score/mean'\n",
    "    max_mean = df[column].max()\n",
    "    max_mean_index = np.where(df[column]==max_mean)[0][-1]\n",
    "    print(f\"The maximum mean value of the test episodes is {round(max_mean,2)} at index {max_mean_index*5}.\")\n",
    "    return str(int(round(max_mean_index+1,0)*1e6))\n",
    "    \n",
    "# Example usage:\n",
    "ch = find_max_mean(log)"
   ]
  },
  {
   "cell_type": "code",
   "execution_count": 86,
   "metadata": {},
   "outputs": [],
   "source": [
    "max_mean_index = 250/5\n",
    "ch = str(int(round(max_mean_index+1,0)*1e6))"
   ]
  },
  {
   "cell_type": "markdown",
   "metadata": {},
   "source": [
    "### Simul"
   ]
  },
  {
   "cell_type": "code",
   "execution_count": 87,
   "metadata": {},
   "outputs": [
    {
     "name": "stdout",
     "output_type": "stream",
     "text": [
      "\u001b[1m\u001b[32mLoading\u001b[0m\n",
      "fix_10_default222219\n",
      "Episode 1: steps=1000; reward=8981.112, com=[ 12.023200 0.967432 0.124518 ]\n",
      "Episode 2: steps=1000; reward=8975.889, com=[ 12.185416 0.968219 0.029468 ]\n",
      "Episode 3: steps=1000; reward=8989.883, com=[ 12.032866 0.972439 0.012728 ]\n",
      "Episode 4: steps=133; reward=999.164, com=[ 1.103518 0.586266 0.090969 ]\n",
      "Episode 5: steps=109; reward=819.205, com=[ 0.898737 0.570089 -0.175022 ]\n",
      "Epis: 3,Max_Re:8989.883062242643\n"
     ]
    }
   ],
   "source": [
    "env = eval(config['tonic']['environment'])\n",
    "time = datetime.datetime.now() \n",
    "env.set_output_dir(config['tonic']['name']+f'{make6(time)}')\n",
    "policy = deprl.load(os.path.join(path,'checkpoints'),env,checkpoint=ch)  ## checkpoint =  ch로 설정하면 최상의 결과\n",
    "print(env.output_dir)\n",
    "pos, vel = inference(env,policy,num=5,save = True,Max = True,more=False,reward_type = 'position',types = 'both')"
   ]
  },
  {
   "cell_type": "markdown",
   "metadata": {},
   "source": [
    "\n",
    "###"
   ]
  }
 ],
 "metadata": {
  "kernelspec": {
   "display_name": "pythongait",
   "language": "python",
   "name": "python3"
  },
  "language_info": {
   "codemirror_mode": {
    "name": "ipython",
    "version": 3
   },
   "file_extension": ".py",
   "mimetype": "text/x-python",
   "name": "python",
   "nbconvert_exporter": "python",
   "pygments_lexer": "ipython3",
   "version": "3.9.13"
  }
 },
 "nbformat": 4,
 "nbformat_minor": 2
}
